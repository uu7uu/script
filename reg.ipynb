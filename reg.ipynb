{
 "cells": [
  {
   "cell_type": "code",
   "execution_count": 5,
   "metadata": {},
   "outputs": [],
   "source": [
    "import os\n",
    "from astropy.io import fits"
   ]
  },
  {
   "cell_type": "code",
   "execution_count": 6,
   "metadata": {},
   "outputs": [],
   "source": [
    "def generate_region_content(center_ra, center_dec):\n",
    "\n",
    "    header = \"\"\"# Region file format: DS9 version 4.1\n",
    "global color=green dashlist=8 3 width=1 font=\"helvetica 10 normal roman\" select=1 highlite=1 dash=0 fixed=0 edit=1 move=1 delete=1 include=1 source=1\n",
    "physical\n",
    "\"\"\"\n",
    "    circle = f\"annulus({center_ra},{center_dec},{radius},30.034208)\"\n",
    "    content = header + circle\n",
    "    return content\n",
    "\n",
    "def write_to_txt(filename, content):\n",
    "    with open(filename, 'w') as file:\n",
    "        file.write(content)\n",
    "\n",
    "        "
   ]
  },
  {
   "cell_type": "code",
   "execution_count": 7,
   "metadata": {},
   "outputs": [],
   "source": [
    "# if __name__ == \"__main__\":\n",
    "#修改你的中心\n",
    "center_ra = 399.81953\n",
    "center_dec = 485.01249\n",
    "\n",
    "for radius in range(0,21):\n",
    "    region_content = generate_region_content(center_ra, center_dec)\n",
    "    filename=f\"c{radius}.reg\"\n",
    "    write_to_txt(filename,region_content)"
   ]
  }
 ],
 "metadata": {
  "kernelspec": {
   "display_name": "base",
   "language": "python",
   "name": "python3"
  },
  "language_info": {
   "codemirror_mode": {
    "name": "ipython",
    "version": 3
   },
   "file_extension": ".py",
   "mimetype": "text/x-python",
   "name": "python",
   "nbconvert_exporter": "python",
   "pygments_lexer": "ipython3",
   "version": "3.7.6"
  }
 },
 "nbformat": 4,
 "nbformat_minor": 2
}
